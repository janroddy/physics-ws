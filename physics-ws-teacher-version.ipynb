{
 "cells": [
  {
   "cell_type": "markdown",
   "metadata": {},
   "source": [
    "<h1 style= padding:10px>Physics Worksheet </h1>\n",
    "\n",
    "<div style=\"background-color: #BCDBF5 ; padding: 10px; border: 1px solid;\">\n",
    "\n",
    "<p>Consider the following classic physics problem: A block of mass m1 is released from rest from the top of a frictionless ramp of height h, then collides inelastically with a block of mass m2 (so they stick together). Find the final speed of the blocks. \n",
    "Write a function that takes inputs h, m1, and m2, and calculates the final speed of the blocks. Then use pyplot to investigate how varying the values for h, m1, and m2, affects the final speed of the blocks after the collision.</p>\n",
    "<h2>Instructions:</h2>\n",
    "<ol>\n",
    "  <li></li>\n",
    "</ol>\n",
    "\n",
    "</div>"
   ]
  },
  {
   "cell_type": "code",
   "execution_count": 2,
   "metadata": {},
   "outputs": [
    {
     "data": {
      "image/png": "[encoded data removed]",
      "text/plain": [
       "<Figure size 432x288 with 1 Axes>"
      ]
     },
     "metadata": {
      "needs_background": "light"
     },
     "output_type": "display_data"
    }
   ],
   "source": [
    "from math import sqrt\n",
    "from matplotlib import pyplot\n",
    "\n",
    "# A block of mass m_1 slides down a frictionless ramp of height h and\n",
    "# collides inelastically with a block of m_2 that is initially at rest.\n",
    "# The solver function uses an energy calculation to find the speed of\n",
    "# m_1 at the bottom of the ramp, and then uses a momentum calculation to\n",
    "# find the final speed of the blocks after they stick together.\n",
    "# Lastly, we can use pyplot to vary one of the parameters (e.g., the\n",
    "# height of the ramp h, while holding the other parameters constant)\n",
    "# and see how the ramp height affects the final velocity of the system\n",
    "\n",
    "def solver(m_1,m_2,h):\n",
    "    g=9.8\n",
    "    #first find the speed of a block at the bottom of the ramp\n",
    "    potential_energy = m_1*g*h\n",
    "    v_1 = sqrt(2*potential_energy/m_1)\n",
    "\n",
    "    #now find the final speed of the blocks after the collision and return that value\n",
    "    total_momentum = m_1*v_1+m_2*0\n",
    "    total_mass = m_1+m_2\n",
    "    v_final = total_momentum/total_mass\n",
    "    return v_final\n",
    "\n",
    "\n",
    "for h in range(1,100,2):\n",
    "    pyplot.plot(h,solver(5,5,h),'ro')\n",
    "\n",
    "for m_2 in range(1,100,2):\n",
    "    pyplot.plot(m_2,solver(5,m_2,20),'bo')\n",
    "\n",
    "for m_1 in range(1,100,2):\n",
    "    pyplot.plot(m_1,solver(m_1,5,20),'go')\n",
    "\n",
    "pyplot.show()\n",
    "    \n"
   ]
  }
 ],
 "metadata": {
  "kernelspec": {
   "display_name": "Python 3",
   "language": "python",
   "name": "python3"
  },
  "language_info": {
   "codemirror_mode": {
    "name": "ipython",
    "version": 3
   },
   "file_extension": ".py",
   "mimetype": "text/x-python",
   "name": "python",
   "nbconvert_exporter": "python",
   "pygments_lexer": "ipython3",
   "version": "3.6.2"
  }
 },
 "nbformat": 4,
 "nbformat_minor": 2
}
