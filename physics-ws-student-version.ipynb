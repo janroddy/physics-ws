{
 "cells": [
  {
   "cell_type": "markdown",
   "metadata": {},
   "source": [
    "<h1 style= padding:10px>Physics Worksheet </h1>\n",
    "\n",
    "<div style=\"background-color: #BCDBF5 ; padding: 10px; border: 1px solid;\">\n",
    "\n",
    "<p>Consider the following classic physics problem: A block of mass m1 is released from rest from the top of a frictionless ramp of height h, then collides inelastically with a block of mass m2 (so they stick together). Find the final speed of the blocks. \n",
    "Write a function that takes inputs h, m1, and m2, and calculates the final speed of the blocks. Then use pyplot to investigate how varying the values for h, m1, and m2, affects the final speed of the blocks after the collision.</p>\n",
    "<h2>Instructions:</h2>\n",
    "<ol>\n",
    "  <li></li>\n",
    "</ol>\n",
    "\n",
    "</div>"
   ]
  },
  {
   "cell_type": "code",
   "execution_count": 1,
   "metadata": {},
   "outputs": [
    {
     "ename": "IndentationError",
     "evalue": "expected an indented block (<ipython-input-1-d10c78787070>, line 24)",
     "output_type": "error",
     "traceback": [
      "\u001b[0;36m  File \u001b[0;32m\"<ipython-input-1-d10c78787070>\"\u001b[0;36m, line \u001b[0;32m24\u001b[0m\n\u001b[0;31m    for h in range(1,100,2):\u001b[0m\n\u001b[0m      ^\u001b[0m\n\u001b[0;31mIndentationError\u001b[0m\u001b[0;31m:\u001b[0m expected an indented block\n"
     ]
    }
   ],
   "source": [
    "from math import sqrt\n",
    "from matplotlib import pyplot\n",
    "\n",
    "# A block of mass m_1 slides down a frictionless ramp of height h and\n",
    "# collides inelastically with a block of m_2 that is initially at rest.\n",
    "# The solver function uses an energy calculation to find the speed of\n",
    "# m_1 at the bottom of the ramp, and then uses a momentum calculation to\n",
    "# find the final speed of the blocks after they stick together.\n",
    "# Lastly, we can use pyplot to vary one of the parameters (e.g., the\n",
    "# height of the ramp h, while holding the other parameters constant)\n",
    "# and see how the ramp height affects the final velocity of the system\n",
    "\n",
    "def solver(m_1,m_2,h):\n",
    "    #first find the speed of a block at the bottom of the ramp\n",
    "\n",
    "\n",
    "    #now find the final speed of the blocks after the collision, and return that value\n",
    "\n",
    "\n",
    "\n",
    "#here's one way you could plot final velocity vs. initial height\n",
    "#reuse/alter this code to investigate how varying m_1, m_2, or h\n",
    "#changes the final velocity of the blocks \n",
    "for h in range(1,100,2):\n",
    "  pyplot.plot(h,solver(5,5,h),'ro')\n",
    "\n",
    "\n",
    "pyplot.show()\n"
   ]
  },
  {
   "cell_type": "code",
   "execution_count": null,
   "metadata": {},
   "outputs": [],
   "source": []
  },
  {
   "cell_type": "code",
   "execution_count": null,
   "metadata": {},
   "outputs": [],
   "source": []
  }
 ],
 "metadata": {
  "kernelspec": {
   "display_name": "Python 3",
   "language": "python",
   "name": "python3"
  },
  "language_info": {
   "codemirror_mode": {
    "name": "ipython",
    "version": 3
   },
   "file_extension": ".py",
   "mimetype": "text/x-python",
   "name": "python",
   "nbconvert_exporter": "python",
   "pygments_lexer": "ipython3",
   "version": "3.6.2"
  }
 },
 "nbformat": 4,
 "nbformat_minor": 2
}
